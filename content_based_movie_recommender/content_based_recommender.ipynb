{
 "cells": [
  {
   "cell_type": "code",
   "execution_count": 1,
   "metadata": {},
   "outputs": [],
   "source": [
    "import pandas as pd\n",
    "import numpy as np\n",
    "from sklearn.linear_model import LinearRegression\n",
    "from sklearn.metrics import mean_squared_error\n",
    "from itertools import islice"
   ]
  },
  {
   "cell_type": "markdown",
   "metadata": {},
   "source": [
    "<h1>Content-based movie recommender</h1>"
   ]
  },
  {
   "cell_type": "markdown",
   "metadata": {},
   "source": [
    "In this notebook, I will be using the ratings and genres to attemp to help recommend movies to a user.\n",
    "<br>\n",
    "<h5>Method</h5>\n",
    "The general idea is to predict the ratings a user will give based on the genre.\n",
    "<br>\n",
    "I will be using linear regression to train a user's preferences based on movies that he/she has rated, then use the learned preferences to predict the ratings of movies. Based on those ratings, I will then suggest the top few movies for him/her to watch"
   ]
  },
  {
   "cell_type": "markdown",
   "metadata": {},
   "source": [
    "<h3>Getting and sorting the data</h3>"
   ]
  },
  {
   "cell_type": "markdown",
   "metadata": {},
   "source": [
    "Read in files, and check it they are clean"
   ]
  },
  {
   "cell_type": "code",
   "execution_count": 2,
   "metadata": {},
   "outputs": [],
   "source": [
    "df_ratings = pd.read_csv('ratings.csv')\n",
    "df_movies = pd.read_csv('movies.csv')"
   ]
  },
  {
   "cell_type": "code",
   "execution_count": 3,
   "metadata": {
    "scrolled": false
   },
   "outputs": [
    {
     "name": "stdout",
     "output_type": "stream",
     "text": [
      "userId       0\n",
      "movieId      0\n",
      "rating       0\n",
      "timestamp    0\n",
      "dtype: int64\n"
     ]
    },
    {
     "data": {
      "text/html": [
       "<div>\n",
       "<style scoped>\n",
       "    .dataframe tbody tr th:only-of-type {\n",
       "        vertical-align: middle;\n",
       "    }\n",
       "\n",
       "    .dataframe tbody tr th {\n",
       "        vertical-align: top;\n",
       "    }\n",
       "\n",
       "    .dataframe thead th {\n",
       "        text-align: right;\n",
       "    }\n",
       "</style>\n",
       "<table border=\"1\" class=\"dataframe\">\n",
       "  <thead>\n",
       "    <tr style=\"text-align: right;\">\n",
       "      <th></th>\n",
       "      <th>userId</th>\n",
       "      <th>movieId</th>\n",
       "      <th>rating</th>\n",
       "      <th>timestamp</th>\n",
       "    </tr>\n",
       "  </thead>\n",
       "  <tbody>\n",
       "    <tr>\n",
       "      <td>0</td>\n",
       "      <td>1</td>\n",
       "      <td>1</td>\n",
       "      <td>4.0</td>\n",
       "      <td>964982703</td>\n",
       "    </tr>\n",
       "    <tr>\n",
       "      <td>1</td>\n",
       "      <td>1</td>\n",
       "      <td>3</td>\n",
       "      <td>4.0</td>\n",
       "      <td>964981247</td>\n",
       "    </tr>\n",
       "    <tr>\n",
       "      <td>2</td>\n",
       "      <td>1</td>\n",
       "      <td>6</td>\n",
       "      <td>4.0</td>\n",
       "      <td>964982224</td>\n",
       "    </tr>\n",
       "    <tr>\n",
       "      <td>3</td>\n",
       "      <td>1</td>\n",
       "      <td>47</td>\n",
       "      <td>5.0</td>\n",
       "      <td>964983815</td>\n",
       "    </tr>\n",
       "    <tr>\n",
       "      <td>4</td>\n",
       "      <td>1</td>\n",
       "      <td>50</td>\n",
       "      <td>5.0</td>\n",
       "      <td>964982931</td>\n",
       "    </tr>\n",
       "  </tbody>\n",
       "</table>\n",
       "</div>"
      ],
      "text/plain": [
       "   userId  movieId  rating  timestamp\n",
       "0       1        1     4.0  964982703\n",
       "1       1        3     4.0  964981247\n",
       "2       1        6     4.0  964982224\n",
       "3       1       47     5.0  964983815\n",
       "4       1       50     5.0  964982931"
      ]
     },
     "execution_count": 3,
     "metadata": {},
     "output_type": "execute_result"
    }
   ],
   "source": [
    "print(df_ratings.isnull().sum())\n",
    "df_ratings.head()"
   ]
  },
  {
   "cell_type": "code",
   "execution_count": 4,
   "metadata": {
    "scrolled": false
   },
   "outputs": [
    {
     "name": "stdout",
     "output_type": "stream",
     "text": [
      "movieId    0\n",
      "title      0\n",
      "genres     0\n",
      "dtype: int64\n"
     ]
    },
    {
     "data": {
      "text/html": [
       "<div>\n",
       "<style scoped>\n",
       "    .dataframe tbody tr th:only-of-type {\n",
       "        vertical-align: middle;\n",
       "    }\n",
       "\n",
       "    .dataframe tbody tr th {\n",
       "        vertical-align: top;\n",
       "    }\n",
       "\n",
       "    .dataframe thead th {\n",
       "        text-align: right;\n",
       "    }\n",
       "</style>\n",
       "<table border=\"1\" class=\"dataframe\">\n",
       "  <thead>\n",
       "    <tr style=\"text-align: right;\">\n",
       "      <th></th>\n",
       "      <th>movieId</th>\n",
       "      <th>title</th>\n",
       "      <th>genres</th>\n",
       "    </tr>\n",
       "  </thead>\n",
       "  <tbody>\n",
       "    <tr>\n",
       "      <td>0</td>\n",
       "      <td>1</td>\n",
       "      <td>Toy Story (1995)</td>\n",
       "      <td>Adventure|Animation|Children|Comedy|Fantasy</td>\n",
       "    </tr>\n",
       "    <tr>\n",
       "      <td>1</td>\n",
       "      <td>2</td>\n",
       "      <td>Jumanji (1995)</td>\n",
       "      <td>Adventure|Children|Fantasy</td>\n",
       "    </tr>\n",
       "    <tr>\n",
       "      <td>2</td>\n",
       "      <td>3</td>\n",
       "      <td>Grumpier Old Men (1995)</td>\n",
       "      <td>Comedy|Romance</td>\n",
       "    </tr>\n",
       "    <tr>\n",
       "      <td>3</td>\n",
       "      <td>4</td>\n",
       "      <td>Waiting to Exhale (1995)</td>\n",
       "      <td>Comedy|Drama|Romance</td>\n",
       "    </tr>\n",
       "    <tr>\n",
       "      <td>4</td>\n",
       "      <td>5</td>\n",
       "      <td>Father of the Bride Part II (1995)</td>\n",
       "      <td>Comedy</td>\n",
       "    </tr>\n",
       "  </tbody>\n",
       "</table>\n",
       "</div>"
      ],
      "text/plain": [
       "   movieId                               title  \\\n",
       "0        1                    Toy Story (1995)   \n",
       "1        2                      Jumanji (1995)   \n",
       "2        3             Grumpier Old Men (1995)   \n",
       "3        4            Waiting to Exhale (1995)   \n",
       "4        5  Father of the Bride Part II (1995)   \n",
       "\n",
       "                                        genres  \n",
       "0  Adventure|Animation|Children|Comedy|Fantasy  \n",
       "1                   Adventure|Children|Fantasy  \n",
       "2                               Comedy|Romance  \n",
       "3                         Comedy|Drama|Romance  \n",
       "4                                       Comedy  "
      ]
     },
     "execution_count": 4,
     "metadata": {},
     "output_type": "execute_result"
    }
   ],
   "source": [
    "print(df_movies.isnull().sum())\n",
    "df_movies.head()"
   ]
  },
  {
   "cell_type": "code",
   "execution_count": 5,
   "metadata": {
    "scrolled": true
   },
   "outputs": [
    {
     "data": {
      "text/plain": [
       "(100836, 4)"
      ]
     },
     "execution_count": 5,
     "metadata": {},
     "output_type": "execute_result"
    }
   ],
   "source": [
    "df_ratings.shape"
   ]
  },
  {
   "cell_type": "markdown",
   "metadata": {},
   "source": [
    "<h5> Merge the data </h5>"
   ]
  },
  {
   "cell_type": "code",
   "execution_count": 6,
   "metadata": {},
   "outputs": [
    {
     "data": {
      "text/plain": [
       "(100836, 6)"
      ]
     },
     "execution_count": 6,
     "metadata": {},
     "output_type": "execute_result"
    }
   ],
   "source": [
    "df = pd.merge(df_movies, df_ratings, on='movieId')\n",
    "df = df.sort_values(by=['userId'])\n",
    "df.shape"
   ]
  },
  {
   "cell_type": "code",
   "execution_count": 7,
   "metadata": {
    "scrolled": false
   },
   "outputs": [
    {
     "data": {
      "text/html": [
       "<div>\n",
       "<style scoped>\n",
       "    .dataframe tbody tr th:only-of-type {\n",
       "        vertical-align: middle;\n",
       "    }\n",
       "\n",
       "    .dataframe tbody tr th {\n",
       "        vertical-align: top;\n",
       "    }\n",
       "\n",
       "    .dataframe thead th {\n",
       "        text-align: right;\n",
       "    }\n",
       "</style>\n",
       "<table border=\"1\" class=\"dataframe\">\n",
       "  <thead>\n",
       "    <tr style=\"text-align: right;\">\n",
       "      <th></th>\n",
       "      <th>movieId</th>\n",
       "      <th>title</th>\n",
       "      <th>genres</th>\n",
       "      <th>userId</th>\n",
       "      <th>rating</th>\n",
       "      <th>timestamp</th>\n",
       "    </tr>\n",
       "  </thead>\n",
       "  <tbody>\n",
       "    <tr>\n",
       "      <td>0</td>\n",
       "      <td>1</td>\n",
       "      <td>Toy Story (1995)</td>\n",
       "      <td>Adventure|Animation|Children|Comedy|Fantasy</td>\n",
       "      <td>1</td>\n",
       "      <td>4.0</td>\n",
       "      <td>964982703</td>\n",
       "    </tr>\n",
       "    <tr>\n",
       "      <td>35548</td>\n",
       "      <td>1777</td>\n",
       "      <td>Wedding Singer, The (1998)</td>\n",
       "      <td>Comedy|Romance</td>\n",
       "      <td>1</td>\n",
       "      <td>4.0</td>\n",
       "      <td>964981230</td>\n",
       "    </tr>\n",
       "    <tr>\n",
       "      <td>35249</td>\n",
       "      <td>1732</td>\n",
       "      <td>Big Lebowski, The (1998)</td>\n",
       "      <td>Comedy|Crime</td>\n",
       "      <td>1</td>\n",
       "      <td>5.0</td>\n",
       "      <td>964981125</td>\n",
       "    </tr>\n",
       "    <tr>\n",
       "      <td>34348</td>\n",
       "      <td>1676</td>\n",
       "      <td>Starship Troopers (1997)</td>\n",
       "      <td>Action|Sci-Fi</td>\n",
       "      <td>1</td>\n",
       "      <td>3.0</td>\n",
       "      <td>964982620</td>\n",
       "    </tr>\n",
       "    <tr>\n",
       "      <td>2379</td>\n",
       "      <td>50</td>\n",
       "      <td>Usual Suspects, The (1995)</td>\n",
       "      <td>Crime|Mystery|Thriller</td>\n",
       "      <td>1</td>\n",
       "      <td>5.0</td>\n",
       "      <td>964982931</td>\n",
       "    </tr>\n",
       "  </tbody>\n",
       "</table>\n",
       "</div>"
      ],
      "text/plain": [
       "       movieId                       title  \\\n",
       "0            1            Toy Story (1995)   \n",
       "35548     1777  Wedding Singer, The (1998)   \n",
       "35249     1732    Big Lebowski, The (1998)   \n",
       "34348     1676    Starship Troopers (1997)   \n",
       "2379        50  Usual Suspects, The (1995)   \n",
       "\n",
       "                                            genres  userId  rating  timestamp  \n",
       "0      Adventure|Animation|Children|Comedy|Fantasy       1     4.0  964982703  \n",
       "35548                               Comedy|Romance       1     4.0  964981230  \n",
       "35249                                 Comedy|Crime       1     5.0  964981125  \n",
       "34348                                Action|Sci-Fi       1     3.0  964982620  \n",
       "2379                        Crime|Mystery|Thriller       1     5.0  964982931  "
      ]
     },
     "execution_count": 7,
     "metadata": {},
     "output_type": "execute_result"
    }
   ],
   "source": [
    "df.head()"
   ]
  },
  {
   "cell_type": "markdown",
   "metadata": {},
   "source": [
    "<h5> I won't be needing timestamp, so I'll delete that </h5>"
   ]
  },
  {
   "cell_type": "code",
   "execution_count": 8,
   "metadata": {
    "scrolled": true
   },
   "outputs": [],
   "source": [
    "df = df.drop(columns=['timestamp'])"
   ]
  },
  {
   "cell_type": "markdown",
   "metadata": {},
   "source": [
    "<h5>Now I want to create a vector for each of genres. 1 if genre is true and 0 if not</h5>"
   ]
  },
  {
   "cell_type": "code",
   "execution_count": 9,
   "metadata": {},
   "outputs": [],
   "source": [
    "# From the movielens information\n",
    "genres = ['Action', 'Adventure', 'Animation', 'Children', 'Comedy',\n",
    "         'Crime', 'Documentary', 'Drama', 'Fantasy', 'Film-Noir', 'Horror',\n",
    "         'Musical', 'Mystery', 'Romance', 'Sci-Fi', 'Thriller', 'War', 'Western']\n",
    "\n",
    "def to_genre_vec(genre, gen_df_row):\n",
    "    gen_list = gen_df_row.split(\"|\")\n",
    "    if genre in gen_list:\n",
    "        return 1\n",
    "    else:\n",
    "        return 0"
   ]
  },
  {
   "cell_type": "code",
   "execution_count": 10,
   "metadata": {
    "scrolled": false
   },
   "outputs": [
    {
     "data": {
      "text/plain": [
       "(100836, 23)"
      ]
     },
     "execution_count": 10,
     "metadata": {},
     "output_type": "execute_result"
    }
   ],
   "source": [
    "for genre in genres:\n",
    "    df[genre] = df['genres'].apply(lambda x: to_genre_vec(genre,x))\n",
    "df.shape"
   ]
  },
  {
   "cell_type": "code",
   "execution_count": 11,
   "metadata": {
    "scrolled": false
   },
   "outputs": [
    {
     "data": {
      "text/html": [
       "<div>\n",
       "<style scoped>\n",
       "    .dataframe tbody tr th:only-of-type {\n",
       "        vertical-align: middle;\n",
       "    }\n",
       "\n",
       "    .dataframe tbody tr th {\n",
       "        vertical-align: top;\n",
       "    }\n",
       "\n",
       "    .dataframe thead th {\n",
       "        text-align: right;\n",
       "    }\n",
       "</style>\n",
       "<table border=\"1\" class=\"dataframe\">\n",
       "  <thead>\n",
       "    <tr style=\"text-align: right;\">\n",
       "      <th></th>\n",
       "      <th>movieId</th>\n",
       "      <th>title</th>\n",
       "      <th>genres</th>\n",
       "      <th>userId</th>\n",
       "      <th>rating</th>\n",
       "      <th>Action</th>\n",
       "      <th>Adventure</th>\n",
       "      <th>Animation</th>\n",
       "      <th>Children</th>\n",
       "      <th>Comedy</th>\n",
       "      <th>...</th>\n",
       "      <th>Fantasy</th>\n",
       "      <th>Film-Noir</th>\n",
       "      <th>Horror</th>\n",
       "      <th>Musical</th>\n",
       "      <th>Mystery</th>\n",
       "      <th>Romance</th>\n",
       "      <th>Sci-Fi</th>\n",
       "      <th>Thriller</th>\n",
       "      <th>War</th>\n",
       "      <th>Western</th>\n",
       "    </tr>\n",
       "  </thead>\n",
       "  <tbody>\n",
       "    <tr>\n",
       "      <td>0</td>\n",
       "      <td>1</td>\n",
       "      <td>Toy Story (1995)</td>\n",
       "      <td>Adventure|Animation|Children|Comedy|Fantasy</td>\n",
       "      <td>1</td>\n",
       "      <td>4.0</td>\n",
       "      <td>0</td>\n",
       "      <td>1</td>\n",
       "      <td>1</td>\n",
       "      <td>1</td>\n",
       "      <td>1</td>\n",
       "      <td>...</td>\n",
       "      <td>1</td>\n",
       "      <td>0</td>\n",
       "      <td>0</td>\n",
       "      <td>0</td>\n",
       "      <td>0</td>\n",
       "      <td>0</td>\n",
       "      <td>0</td>\n",
       "      <td>0</td>\n",
       "      <td>0</td>\n",
       "      <td>0</td>\n",
       "    </tr>\n",
       "    <tr>\n",
       "      <td>35548</td>\n",
       "      <td>1777</td>\n",
       "      <td>Wedding Singer, The (1998)</td>\n",
       "      <td>Comedy|Romance</td>\n",
       "      <td>1</td>\n",
       "      <td>4.0</td>\n",
       "      <td>0</td>\n",
       "      <td>0</td>\n",
       "      <td>0</td>\n",
       "      <td>0</td>\n",
       "      <td>1</td>\n",
       "      <td>...</td>\n",
       "      <td>0</td>\n",
       "      <td>0</td>\n",
       "      <td>0</td>\n",
       "      <td>0</td>\n",
       "      <td>0</td>\n",
       "      <td>1</td>\n",
       "      <td>0</td>\n",
       "      <td>0</td>\n",
       "      <td>0</td>\n",
       "      <td>0</td>\n",
       "    </tr>\n",
       "    <tr>\n",
       "      <td>35249</td>\n",
       "      <td>1732</td>\n",
       "      <td>Big Lebowski, The (1998)</td>\n",
       "      <td>Comedy|Crime</td>\n",
       "      <td>1</td>\n",
       "      <td>5.0</td>\n",
       "      <td>0</td>\n",
       "      <td>0</td>\n",
       "      <td>0</td>\n",
       "      <td>0</td>\n",
       "      <td>1</td>\n",
       "      <td>...</td>\n",
       "      <td>0</td>\n",
       "      <td>0</td>\n",
       "      <td>0</td>\n",
       "      <td>0</td>\n",
       "      <td>0</td>\n",
       "      <td>0</td>\n",
       "      <td>0</td>\n",
       "      <td>0</td>\n",
       "      <td>0</td>\n",
       "      <td>0</td>\n",
       "    </tr>\n",
       "    <tr>\n",
       "      <td>34348</td>\n",
       "      <td>1676</td>\n",
       "      <td>Starship Troopers (1997)</td>\n",
       "      <td>Action|Sci-Fi</td>\n",
       "      <td>1</td>\n",
       "      <td>3.0</td>\n",
       "      <td>1</td>\n",
       "      <td>0</td>\n",
       "      <td>0</td>\n",
       "      <td>0</td>\n",
       "      <td>0</td>\n",
       "      <td>...</td>\n",
       "      <td>0</td>\n",
       "      <td>0</td>\n",
       "      <td>0</td>\n",
       "      <td>0</td>\n",
       "      <td>0</td>\n",
       "      <td>0</td>\n",
       "      <td>1</td>\n",
       "      <td>0</td>\n",
       "      <td>0</td>\n",
       "      <td>0</td>\n",
       "    </tr>\n",
       "    <tr>\n",
       "      <td>2379</td>\n",
       "      <td>50</td>\n",
       "      <td>Usual Suspects, The (1995)</td>\n",
       "      <td>Crime|Mystery|Thriller</td>\n",
       "      <td>1</td>\n",
       "      <td>5.0</td>\n",
       "      <td>0</td>\n",
       "      <td>0</td>\n",
       "      <td>0</td>\n",
       "      <td>0</td>\n",
       "      <td>0</td>\n",
       "      <td>...</td>\n",
       "      <td>0</td>\n",
       "      <td>0</td>\n",
       "      <td>0</td>\n",
       "      <td>0</td>\n",
       "      <td>1</td>\n",
       "      <td>0</td>\n",
       "      <td>0</td>\n",
       "      <td>1</td>\n",
       "      <td>0</td>\n",
       "      <td>0</td>\n",
       "    </tr>\n",
       "  </tbody>\n",
       "</table>\n",
       "<p>5 rows × 23 columns</p>\n",
       "</div>"
      ],
      "text/plain": [
       "       movieId                       title  \\\n",
       "0            1            Toy Story (1995)   \n",
       "35548     1777  Wedding Singer, The (1998)   \n",
       "35249     1732    Big Lebowski, The (1998)   \n",
       "34348     1676    Starship Troopers (1997)   \n",
       "2379        50  Usual Suspects, The (1995)   \n",
       "\n",
       "                                            genres  userId  rating  Action  \\\n",
       "0      Adventure|Animation|Children|Comedy|Fantasy       1     4.0       0   \n",
       "35548                               Comedy|Romance       1     4.0       0   \n",
       "35249                                 Comedy|Crime       1     5.0       0   \n",
       "34348                                Action|Sci-Fi       1     3.0       1   \n",
       "2379                        Crime|Mystery|Thriller       1     5.0       0   \n",
       "\n",
       "       Adventure  Animation  Children  Comedy  ...  Fantasy  Film-Noir  \\\n",
       "0              1          1         1       1  ...        1          0   \n",
       "35548          0          0         0       1  ...        0          0   \n",
       "35249          0          0         0       1  ...        0          0   \n",
       "34348          0          0         0       0  ...        0          0   \n",
       "2379           0          0         0       0  ...        0          0   \n",
       "\n",
       "       Horror  Musical  Mystery  Romance  Sci-Fi  Thriller  War  Western  \n",
       "0           0        0        0        0       0         0    0        0  \n",
       "35548       0        0        0        1       0         0    0        0  \n",
       "35249       0        0        0        0       0         0    0        0  \n",
       "34348       0        0        0        0       1         0    0        0  \n",
       "2379        0        0        1        0       0         1    0        0  \n",
       "\n",
       "[5 rows x 23 columns]"
      ]
     },
     "execution_count": 11,
     "metadata": {},
     "output_type": "execute_result"
    }
   ],
   "source": [
    "df.head()"
   ]
  },
  {
   "cell_type": "markdown",
   "metadata": {},
   "source": [
    "<h3>Training a user's preferences</h3>"
   ]
  },
  {
   "cell_type": "markdown",
   "metadata": {},
   "source": [
    "Now, I will train a user's preferences by using the genre_vec of movies the user has reviewed to learn to predict ratings. Essentially, the goal is to have my model (corresponding to a user) take in a movie's genres and predict the rating the user would give it."
   ]
  },
  {
   "cell_type": "code",
   "execution_count": 12,
   "metadata": {},
   "outputs": [],
   "source": [
    "def get_user_model(userId):\n",
    "    # get x variables\n",
    "    df_user_x = df.loc[df['userId'] == userId][genres]\n",
    "    \n",
    "    # get y variables\n",
    "    df_user_y = df.loc[df['userId'] == userId]['rating']\n",
    "    \n",
    "    # Create and train the model\n",
    "    rating_model = LinearRegression()\n",
    "    rating_model.fit(df_user_x, df_user_y)\n",
    "    \n",
    "    # Get predictions for the following calculations\n",
    "    predict = rating_model.predict(df_user_x)\n",
    "    \n",
    "    # Print the Mean Squared Error\n",
    "    print('Mean Square Error: {}'.format(round(mean_squared_error(predict, df_user_y),3)))\n",
    "    \n",
    "    # Print the average error\n",
    "    print('Average Rating Error: {}\\n'.format(round(sum(abs(predict - df_user_y))/len(df_user_y),3)))\n",
    "    \n",
    "    \n",
    "    return rating_model"
   ]
  },
  {
   "cell_type": "markdown",
   "metadata": {},
   "source": [
    "<h3>Example on userId 1</h3>"
   ]
  },
  {
   "cell_type": "code",
   "execution_count": 13,
   "metadata": {
    "scrolled": false
   },
   "outputs": [
    {
     "name": "stdout",
     "output_type": "stream",
     "text": [
      "Mean Square Error: 0.524\n",
      "Average Rating Error: 0.585\n",
      "\n"
     ]
    }
   ],
   "source": [
    "user1_model = get_user_model(1)"
   ]
  },
  {
   "cell_type": "markdown",
   "metadata": {},
   "source": [
    "For the above testing, we tested back on the user's ratings themselves, since we dont have any other information to test it on. <br><br>\n",
    "The Mean square error looks pretty bad, but when we check the real effective error, it really isn't too bad. Just an average of 0.585 in predicted ratings based on the genres"
   ]
  },
  {
   "cell_type": "markdown",
   "metadata": {},
   "source": [
    "<h3>Recommendations</h3>"
   ]
  },
  {
   "cell_type": "markdown",
   "metadata": {},
   "source": [
    "Now, let's take the rest of the movies and sort them by predicted ratings. We will take the best few and recommend them."
   ]
  },
  {
   "cell_type": "code",
   "execution_count": 14,
   "metadata": {
    "scrolled": true
   },
   "outputs": [
    {
     "data": {
      "text/html": [
       "<div>\n",
       "<style scoped>\n",
       "    .dataframe tbody tr th:only-of-type {\n",
       "        vertical-align: middle;\n",
       "    }\n",
       "\n",
       "    .dataframe tbody tr th {\n",
       "        vertical-align: top;\n",
       "    }\n",
       "\n",
       "    .dataframe thead th {\n",
       "        text-align: right;\n",
       "    }\n",
       "</style>\n",
       "<table border=\"1\" class=\"dataframe\">\n",
       "  <thead>\n",
       "    <tr style=\"text-align: right;\">\n",
       "      <th></th>\n",
       "      <th>movieId</th>\n",
       "      <th>title</th>\n",
       "      <th>genres</th>\n",
       "      <th>Action</th>\n",
       "      <th>Adventure</th>\n",
       "      <th>Animation</th>\n",
       "      <th>Children</th>\n",
       "      <th>Comedy</th>\n",
       "      <th>Crime</th>\n",
       "      <th>Documentary</th>\n",
       "      <th>...</th>\n",
       "      <th>Fantasy</th>\n",
       "      <th>Film-Noir</th>\n",
       "      <th>Horror</th>\n",
       "      <th>Musical</th>\n",
       "      <th>Mystery</th>\n",
       "      <th>Romance</th>\n",
       "      <th>Sci-Fi</th>\n",
       "      <th>Thriller</th>\n",
       "      <th>War</th>\n",
       "      <th>Western</th>\n",
       "    </tr>\n",
       "  </thead>\n",
       "  <tbody>\n",
       "    <tr>\n",
       "      <td>0</td>\n",
       "      <td>1</td>\n",
       "      <td>Toy Story (1995)</td>\n",
       "      <td>Adventure|Animation|Children|Comedy|Fantasy</td>\n",
       "      <td>0</td>\n",
       "      <td>1</td>\n",
       "      <td>1</td>\n",
       "      <td>1</td>\n",
       "      <td>1</td>\n",
       "      <td>0</td>\n",
       "      <td>0</td>\n",
       "      <td>...</td>\n",
       "      <td>1</td>\n",
       "      <td>0</td>\n",
       "      <td>0</td>\n",
       "      <td>0</td>\n",
       "      <td>0</td>\n",
       "      <td>0</td>\n",
       "      <td>0</td>\n",
       "      <td>0</td>\n",
       "      <td>0</td>\n",
       "      <td>0</td>\n",
       "    </tr>\n",
       "    <tr>\n",
       "      <td>1</td>\n",
       "      <td>2</td>\n",
       "      <td>Jumanji (1995)</td>\n",
       "      <td>Adventure|Children|Fantasy</td>\n",
       "      <td>0</td>\n",
       "      <td>1</td>\n",
       "      <td>0</td>\n",
       "      <td>1</td>\n",
       "      <td>0</td>\n",
       "      <td>0</td>\n",
       "      <td>0</td>\n",
       "      <td>...</td>\n",
       "      <td>1</td>\n",
       "      <td>0</td>\n",
       "      <td>0</td>\n",
       "      <td>0</td>\n",
       "      <td>0</td>\n",
       "      <td>0</td>\n",
       "      <td>0</td>\n",
       "      <td>0</td>\n",
       "      <td>0</td>\n",
       "      <td>0</td>\n",
       "    </tr>\n",
       "    <tr>\n",
       "      <td>2</td>\n",
       "      <td>3</td>\n",
       "      <td>Grumpier Old Men (1995)</td>\n",
       "      <td>Comedy|Romance</td>\n",
       "      <td>0</td>\n",
       "      <td>0</td>\n",
       "      <td>0</td>\n",
       "      <td>0</td>\n",
       "      <td>1</td>\n",
       "      <td>0</td>\n",
       "      <td>0</td>\n",
       "      <td>...</td>\n",
       "      <td>0</td>\n",
       "      <td>0</td>\n",
       "      <td>0</td>\n",
       "      <td>0</td>\n",
       "      <td>0</td>\n",
       "      <td>1</td>\n",
       "      <td>0</td>\n",
       "      <td>0</td>\n",
       "      <td>0</td>\n",
       "      <td>0</td>\n",
       "    </tr>\n",
       "    <tr>\n",
       "      <td>3</td>\n",
       "      <td>4</td>\n",
       "      <td>Waiting to Exhale (1995)</td>\n",
       "      <td>Comedy|Drama|Romance</td>\n",
       "      <td>0</td>\n",
       "      <td>0</td>\n",
       "      <td>0</td>\n",
       "      <td>0</td>\n",
       "      <td>1</td>\n",
       "      <td>0</td>\n",
       "      <td>0</td>\n",
       "      <td>...</td>\n",
       "      <td>0</td>\n",
       "      <td>0</td>\n",
       "      <td>0</td>\n",
       "      <td>0</td>\n",
       "      <td>0</td>\n",
       "      <td>1</td>\n",
       "      <td>0</td>\n",
       "      <td>0</td>\n",
       "      <td>0</td>\n",
       "      <td>0</td>\n",
       "    </tr>\n",
       "    <tr>\n",
       "      <td>4</td>\n",
       "      <td>5</td>\n",
       "      <td>Father of the Bride Part II (1995)</td>\n",
       "      <td>Comedy</td>\n",
       "      <td>0</td>\n",
       "      <td>0</td>\n",
       "      <td>0</td>\n",
       "      <td>0</td>\n",
       "      <td>1</td>\n",
       "      <td>0</td>\n",
       "      <td>0</td>\n",
       "      <td>...</td>\n",
       "      <td>0</td>\n",
       "      <td>0</td>\n",
       "      <td>0</td>\n",
       "      <td>0</td>\n",
       "      <td>0</td>\n",
       "      <td>0</td>\n",
       "      <td>0</td>\n",
       "      <td>0</td>\n",
       "      <td>0</td>\n",
       "      <td>0</td>\n",
       "    </tr>\n",
       "  </tbody>\n",
       "</table>\n",
       "<p>5 rows × 21 columns</p>\n",
       "</div>"
      ],
      "text/plain": [
       "   movieId                               title  \\\n",
       "0        1                    Toy Story (1995)   \n",
       "1        2                      Jumanji (1995)   \n",
       "2        3             Grumpier Old Men (1995)   \n",
       "3        4            Waiting to Exhale (1995)   \n",
       "4        5  Father of the Bride Part II (1995)   \n",
       "\n",
       "                                        genres  Action  Adventure  Animation  \\\n",
       "0  Adventure|Animation|Children|Comedy|Fantasy       0          1          1   \n",
       "1                   Adventure|Children|Fantasy       0          1          0   \n",
       "2                               Comedy|Romance       0          0          0   \n",
       "3                         Comedy|Drama|Romance       0          0          0   \n",
       "4                                       Comedy       0          0          0   \n",
       "\n",
       "   Children  Comedy  Crime  Documentary  ...  Fantasy  Film-Noir  Horror  \\\n",
       "0         1       1      0            0  ...        1          0       0   \n",
       "1         1       0      0            0  ...        1          0       0   \n",
       "2         0       1      0            0  ...        0          0       0   \n",
       "3         0       1      0            0  ...        0          0       0   \n",
       "4         0       1      0            0  ...        0          0       0   \n",
       "\n",
       "   Musical  Mystery  Romance  Sci-Fi  Thriller  War  Western  \n",
       "0        0        0        0       0         0    0        0  \n",
       "1        0        0        0       0         0    0        0  \n",
       "2        0        0        1       0         0    0        0  \n",
       "3        0        0        1       0         0    0        0  \n",
       "4        0        0        0       0         0    0        0  \n",
       "\n",
       "[5 rows x 21 columns]"
      ]
     },
     "execution_count": 14,
     "metadata": {},
     "output_type": "execute_result"
    }
   ],
   "source": [
    "# Get a list of movies and their respective genre variables\n",
    "# Note: we use df_movies because we want to predict on each movie once, and df_movies\n",
    "#       is a df containing each movie only once\n",
    "\n",
    "df_predict = df_movies\n",
    "for genre in genres:\n",
    "    df_predict[genre] = df_predict['genres'].apply(lambda x: to_genre_vec(genre,x))\n",
    "df_predict.head()"
   ]
  },
  {
   "cell_type": "code",
   "execution_count": 15,
   "metadata": {},
   "outputs": [],
   "source": [
    "# get a df of only the genres variables\n",
    "# Note: I am using the genres variable previously defined, rahter than the 'genres' column in df_predict\n",
    "df_predict_genres = df_predict[genres]"
   ]
  },
  {
   "cell_type": "code",
   "execution_count": 16,
   "metadata": {},
   "outputs": [],
   "source": [
    "def get_user_recommendations(user_model, userId):\n",
    "    \n",
    "    # predict the ratings using the user model we have\n",
    "    user_predictions = user_model.predict(df_predict_genres)\n",
    "    \n",
    "    # concatenate movie title and predictions\n",
    "    user_dict = dict(zip(df_predict['title'], user_predictions))\n",
    "    \n",
    "    # We don't want to recommend movies already watched, so lets delete those\n",
    "    user_watched = df.loc[df['userId']==userId]['title'].to_numpy()\n",
    "    \n",
    "    for i in user_watched:\n",
    "        del user_dict[i]\n",
    "     \n",
    "    # sort the results based on reccomendations\n",
    "    user_reccomendations = sorted(user_dict.items(), key=lambda item: item[1], reverse = True)\n",
    "    \n",
    "    \n",
    "    # print recommendations\n",
    "    print('Based on User{}\\'s rated movies, below are more movies User{} should watch'.format(userId, userId))\n",
    "\n",
    "    for i in user_reccomendations[:10]:\n",
    "        print(('- ' + i[0]))"
   ]
  },
  {
   "cell_type": "markdown",
   "metadata": {},
   "source": [
    "Testing the recommendations on User 1"
   ]
  },
  {
   "cell_type": "code",
   "execution_count": 17,
   "metadata": {
    "scrolled": false
   },
   "outputs": [
    {
     "name": "stdout",
     "output_type": "stream",
     "text": [
      "Based on User1's rated movies, below are more movies User1 should watch\n",
      "- Mildred Pierce (1945)\n",
      "- Strange Love of Martha Ivers, The (1946)\n",
      "- Sweet Smell of Success (1957)\n",
      "- Harder They Fall, The (1956)\n",
      "- While the City Sleeps (1956)\n",
      "- Fury (1936)\n",
      "- Letter, The (1940)\n",
      "- Grifters, The (1990)\n",
      "- Hoodlum (1997)\n",
      "- This World, Then the Fireworks (1997)\n"
     ]
    }
   ],
   "source": [
    "get_user_recommendations(user1_model, 1)"
   ]
  },
  {
   "cell_type": "markdown",
   "metadata": {},
   "source": [
    "<h3> Some more predictions</h3>\n",
    "Recommending movies to users 2-7"
   ]
  },
  {
   "cell_type": "code",
   "execution_count": 18,
   "metadata": {
    "scrolled": true
   },
   "outputs": [
    {
     "name": "stdout",
     "output_type": "stream",
     "text": [
      "User2\n",
      "\n",
      "Mean Square Error: 0.498\n",
      "Average Rating Error: 0.533\n",
      "\n",
      "Based on User2's rated movies, below are more movies User2 should watch\n",
      "- White Sun of the Desert, The (Beloe solntse pustyni) (1970)\n",
      "- Operation Petticoat (1959)\n",
      "- Hot Shots! (1991)\n",
      "- El Cid (1961)\n",
      "- Robin Hood (2010)\n",
      "- Very Long Engagement, A (Un long dimanche de fiançailles) (2004)\n",
      "- Joe Dirt (2001)\n",
      "- Mortdecai (2015)\n",
      "- Rob Roy (1995)\n",
      "- Henry V (1989)\n",
      "\n",
      "\n",
      "User3\n",
      "\n",
      "Mean Square Error: 0.677\n",
      "Average Rating Error: 0.681\n",
      "\n",
      "Based on User3's rated movies, below are more movies User3 should watch\n",
      "- American Psycho (2000)\n",
      "- Book of Shadows: Blair Witch 2 (2000)\n",
      "- From Hell (2001)\n",
      "- Identity (2003)\n",
      "- House of Wax (1953)\n",
      "- Testament of Dr. Mabuse, The (Das Testament des Dr. Mabuse) (1933)\n",
      "- Bird with the Crystal Plumage, The (Uccello dalle piume di cristallo, L') (1970)\n",
      "- Saw VI (2009)\n",
      "- Ninth Gate, The (1999)\n",
      "- Heartless (2009)\n",
      "\n",
      "\n",
      "User4\n",
      "\n",
      "Mean Square Error: 1.611\n",
      "Average Rating Error: 1.066\n",
      "\n",
      "Based on User4's rated movies, below are more movies User4 should watch\n",
      "- Legend of Sleepy Hollow, The (1949)\n",
      "- Yellow Submarine (1968)\n",
      "- Dr. Seuss' The Lorax (2012)\n",
      "- Prince of Egypt, The (1998)\n",
      "- American Pop (1981)\n",
      "- Vampire Hunter D (1985)\n",
      "- Allegro non troppo (1977)\n",
      "- How the Grinch Stole Christmas! (1966)\n",
      "- Cat Soup (Nekojiru-so) (2001)\n",
      "- Watchmen: Tales of the Black Freighter (2009)\n",
      "\n",
      "\n",
      "User5\n",
      "\n",
      "Mean Square Error: 0.553\n",
      "Average Rating Error: 0.566\n",
      "\n",
      "Based on User5's rated movies, below are more movies User5 should watch\n",
      "- Colourful (Karafuru) (2010)\n",
      "- Lesson Faust (1994)\n",
      "- Pom Poko (a.k.a. Raccoon War, The) (Heisei tanuki gassen pompoko) (1994)\n",
      "- Alice (Neco z Alenky) (1988)\n",
      "- Kizumonogatari II: Passionate Blood (2016)\n",
      "- Kizumonogatari III: Cold Blood (2017)\n",
      "- Waking Life (2001)\n",
      "- Idiots and Angels (2008)\n",
      "- Tale of Princess Kaguya, The (Kaguyahime no monogatari) (2013)\n",
      "- Angel's Egg (Tenshi no tamago) (1985)\n",
      "\n",
      "\n",
      "User6\n",
      "\n",
      "Mean Square Error: 0.625\n",
      "Average Rating Error: 0.632\n",
      "\n",
      "Based on User6's rated movies, below are more movies User6 should watch\n",
      "- Mulan (1998)\n",
      "- Northwest Passage (1940)\n",
      "- Anastasia (1997)\n",
      "- National Treasure (2004)\n",
      "- Bourne Identity, The (1988)\n",
      "- Losers, The (2010)\n",
      "- American Tail: Fievel Goes West, An (1991)\n",
      "- Outlaw Josey Wales, The (1976)\n",
      "- 3:10 to Yuma (1957)\n",
      "- Fullmetal Alchemist the Movie: Conqueror of Shamballa (Gekijô-ban hagane no renkinjutsushi: Shanbara wo yuku mono) (2005)\n",
      "\n",
      "\n",
      "User7\n",
      "\n",
      "Mean Square Error: 1.559\n",
      "Average Rating Error: 1.045\n",
      "\n",
      "Based on User7's rated movies, below are more movies User7 should watch\n",
      "- Legend of Sleepy Hollow, The (1949)\n",
      "- Haunted World of El Superbeasto, The (2009)\n",
      "- Sweeney Todd: The Demon Barber of Fleet Street (2007)\n",
      "- Frankenweenie (2012)\n",
      "- Phantom of the Paradise (1974)\n",
      "- Cat Soup (Nekojiru-so) (2001)\n",
      "- Perfect Blue (1997)\n",
      "- South Park: Bigger, Longer and Uncut (1999)\n",
      "- Meet the Feebles (1989)\n",
      "- Eight Crazy Nights (Adam Sandler's Eight Crazy Nights) (2002)\n",
      "\n",
      "\n"
     ]
    }
   ],
   "source": [
    "for i in range (2,8):\n",
    "    print('User' + str(i) + '\\n')\n",
    "    usermodel = get_user_model(i)\n",
    "    get_user_recommendations(usermodel,i)\n",
    "    print('\\n')"
   ]
  },
  {
   "cell_type": "markdown",
   "metadata": {},
   "source": [
    "<h3> Conclusion</h3>\n",
    "The model was created based solely on genres and rating, so it could be recommending rather general things. Maybe next time, I could try creating a model that also predicts based on cast and director (using a similarity vector), the year it was produced and whether it was animated or not."
   ]
  }
 ],
 "metadata": {
  "kernelspec": {
   "display_name": "Python 3",
   "language": "python",
   "name": "python3"
  },
  "language_info": {
   "codemirror_mode": {
    "name": "ipython",
    "version": 3
   },
   "file_extension": ".py",
   "mimetype": "text/x-python",
   "name": "python",
   "nbconvert_exporter": "python",
   "pygments_lexer": "ipython3",
   "version": "3.7.4"
  }
 },
 "nbformat": 4,
 "nbformat_minor": 4
}
