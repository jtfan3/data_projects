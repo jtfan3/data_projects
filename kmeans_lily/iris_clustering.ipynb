{
 "cells": [
  {
   "cell_type": "code",
   "execution_count": 1,
   "metadata": {},
   "outputs": [],
   "source": [
    "import pandas as pd\n",
    "import numpy as np\n",
    "import matplotlib.pyplot as plt\n",
    "from sklearn.cluster import KMeans\n",
    "from sklearn.metrics import f1_score\n",
    "from sklearn.metrics import classification_report"
   ]
  },
  {
   "cell_type": "markdown",
   "metadata": {},
   "source": [
    "<h1>Analysis/prepwork</h1>"
   ]
  },
  {
   "cell_type": "markdown",
   "metadata": {},
   "source": [
    "Read in data"
   ]
  },
  {
   "cell_type": "code",
   "execution_count": 2,
   "metadata": {
    "scrolled": true
   },
   "outputs": [
    {
     "data": {
      "text/html": [
       "<div>\n",
       "<style scoped>\n",
       "    .dataframe tbody tr th:only-of-type {\n",
       "        vertical-align: middle;\n",
       "    }\n",
       "\n",
       "    .dataframe tbody tr th {\n",
       "        vertical-align: top;\n",
       "    }\n",
       "\n",
       "    .dataframe thead th {\n",
       "        text-align: right;\n",
       "    }\n",
       "</style>\n",
       "<table border=\"1\" class=\"dataframe\">\n",
       "  <thead>\n",
       "    <tr style=\"text-align: right;\">\n",
       "      <th></th>\n",
       "      <th>Id</th>\n",
       "      <th>SepalLengthCm</th>\n",
       "      <th>SepalWidthCm</th>\n",
       "      <th>PetalLengthCm</th>\n",
       "      <th>PetalWidthCm</th>\n",
       "      <th>Species</th>\n",
       "    </tr>\n",
       "  </thead>\n",
       "  <tbody>\n",
       "    <tr>\n",
       "      <td>0</td>\n",
       "      <td>1</td>\n",
       "      <td>5.1</td>\n",
       "      <td>3.5</td>\n",
       "      <td>1.4</td>\n",
       "      <td>0.2</td>\n",
       "      <td>Iris-setosa</td>\n",
       "    </tr>\n",
       "    <tr>\n",
       "      <td>1</td>\n",
       "      <td>2</td>\n",
       "      <td>4.9</td>\n",
       "      <td>3.0</td>\n",
       "      <td>1.4</td>\n",
       "      <td>0.2</td>\n",
       "      <td>Iris-setosa</td>\n",
       "    </tr>\n",
       "    <tr>\n",
       "      <td>2</td>\n",
       "      <td>3</td>\n",
       "      <td>4.7</td>\n",
       "      <td>3.2</td>\n",
       "      <td>1.3</td>\n",
       "      <td>0.2</td>\n",
       "      <td>Iris-setosa</td>\n",
       "    </tr>\n",
       "    <tr>\n",
       "      <td>3</td>\n",
       "      <td>4</td>\n",
       "      <td>4.6</td>\n",
       "      <td>3.1</td>\n",
       "      <td>1.5</td>\n",
       "      <td>0.2</td>\n",
       "      <td>Iris-setosa</td>\n",
       "    </tr>\n",
       "    <tr>\n",
       "      <td>4</td>\n",
       "      <td>5</td>\n",
       "      <td>5.0</td>\n",
       "      <td>3.6</td>\n",
       "      <td>1.4</td>\n",
       "      <td>0.2</td>\n",
       "      <td>Iris-setosa</td>\n",
       "    </tr>\n",
       "  </tbody>\n",
       "</table>\n",
       "</div>"
      ],
      "text/plain": [
       "   Id  SepalLengthCm  SepalWidthCm  PetalLengthCm  PetalWidthCm      Species\n",
       "0   1            5.1           3.5            1.4           0.2  Iris-setosa\n",
       "1   2            4.9           3.0            1.4           0.2  Iris-setosa\n",
       "2   3            4.7           3.2            1.3           0.2  Iris-setosa\n",
       "3   4            4.6           3.1            1.5           0.2  Iris-setosa\n",
       "4   5            5.0           3.6            1.4           0.2  Iris-setosa"
      ]
     },
     "execution_count": 2,
     "metadata": {},
     "output_type": "execute_result"
    }
   ],
   "source": [
    "df = pd.read_csv('Iris.csv')\n",
    "df.head()"
   ]
  },
  {
   "cell_type": "markdown",
   "metadata": {},
   "source": [
    "Check for missing values"
   ]
  },
  {
   "cell_type": "code",
   "execution_count": 3,
   "metadata": {
    "scrolled": true
   },
   "outputs": [
    {
     "data": {
      "text/plain": [
       "Id               0\n",
       "SepalLengthCm    0\n",
       "SepalWidthCm     0\n",
       "PetalLengthCm    0\n",
       "PetalWidthCm     0\n",
       "Species          0\n",
       "dtype: int64"
      ]
     },
     "execution_count": 3,
     "metadata": {},
     "output_type": "execute_result"
    }
   ],
   "source": [
    "# Check for missing data\n",
    "df.isnull().sum()"
   ]
  },
  {
   "cell_type": "markdown",
   "metadata": {},
   "source": [
    "Looks like there are no missing values. Lets now make the species column and make it a numbered categorical variable for ease of processing"
   ]
  },
  {
   "cell_type": "code",
   "execution_count": 4,
   "metadata": {},
   "outputs": [],
   "source": [
    "conditions = [\n",
    "    df['Species'] == 'Iris-setosa',\n",
    "    df['Species'] == 'Iris-versicolor',\n",
    "    df['Species'] == 'Iris-virginica',\n",
    "    \n",
    "]\n",
    "choices = [0,1,2]\n",
    "df['SpeciesCat']= np.select(conditions, choices)"
   ]
  },
  {
   "cell_type": "code",
   "execution_count": 5,
   "metadata": {},
   "outputs": [
    {
     "data": {
      "text/html": [
       "<div>\n",
       "<style scoped>\n",
       "    .dataframe tbody tr th:only-of-type {\n",
       "        vertical-align: middle;\n",
       "    }\n",
       "\n",
       "    .dataframe tbody tr th {\n",
       "        vertical-align: top;\n",
       "    }\n",
       "\n",
       "    .dataframe thead th {\n",
       "        text-align: right;\n",
       "    }\n",
       "</style>\n",
       "<table border=\"1\" class=\"dataframe\">\n",
       "  <thead>\n",
       "    <tr style=\"text-align: right;\">\n",
       "      <th></th>\n",
       "      <th>Id</th>\n",
       "      <th>SepalLengthCm</th>\n",
       "      <th>SepalWidthCm</th>\n",
       "      <th>PetalLengthCm</th>\n",
       "      <th>PetalWidthCm</th>\n",
       "      <th>Species</th>\n",
       "      <th>SpeciesCat</th>\n",
       "    </tr>\n",
       "  </thead>\n",
       "  <tbody>\n",
       "    <tr>\n",
       "      <td>0</td>\n",
       "      <td>1</td>\n",
       "      <td>5.1</td>\n",
       "      <td>3.5</td>\n",
       "      <td>1.4</td>\n",
       "      <td>0.2</td>\n",
       "      <td>Iris-setosa</td>\n",
       "      <td>0</td>\n",
       "    </tr>\n",
       "    <tr>\n",
       "      <td>1</td>\n",
       "      <td>2</td>\n",
       "      <td>4.9</td>\n",
       "      <td>3.0</td>\n",
       "      <td>1.4</td>\n",
       "      <td>0.2</td>\n",
       "      <td>Iris-setosa</td>\n",
       "      <td>0</td>\n",
       "    </tr>\n",
       "    <tr>\n",
       "      <td>2</td>\n",
       "      <td>3</td>\n",
       "      <td>4.7</td>\n",
       "      <td>3.2</td>\n",
       "      <td>1.3</td>\n",
       "      <td>0.2</td>\n",
       "      <td>Iris-setosa</td>\n",
       "      <td>0</td>\n",
       "    </tr>\n",
       "    <tr>\n",
       "      <td>3</td>\n",
       "      <td>4</td>\n",
       "      <td>4.6</td>\n",
       "      <td>3.1</td>\n",
       "      <td>1.5</td>\n",
       "      <td>0.2</td>\n",
       "      <td>Iris-setosa</td>\n",
       "      <td>0</td>\n",
       "    </tr>\n",
       "    <tr>\n",
       "      <td>4</td>\n",
       "      <td>5</td>\n",
       "      <td>5.0</td>\n",
       "      <td>3.6</td>\n",
       "      <td>1.4</td>\n",
       "      <td>0.2</td>\n",
       "      <td>Iris-setosa</td>\n",
       "      <td>0</td>\n",
       "    </tr>\n",
       "  </tbody>\n",
       "</table>\n",
       "</div>"
      ],
      "text/plain": [
       "   Id  SepalLengthCm  SepalWidthCm  PetalLengthCm  PetalWidthCm      Species  \\\n",
       "0   1            5.1           3.5            1.4           0.2  Iris-setosa   \n",
       "1   2            4.9           3.0            1.4           0.2  Iris-setosa   \n",
       "2   3            4.7           3.2            1.3           0.2  Iris-setosa   \n",
       "3   4            4.6           3.1            1.5           0.2  Iris-setosa   \n",
       "4   5            5.0           3.6            1.4           0.2  Iris-setosa   \n",
       "\n",
       "   SpeciesCat  \n",
       "0           0  \n",
       "1           0  \n",
       "2           0  \n",
       "3           0  \n",
       "4           0  "
      ]
     },
     "execution_count": 5,
     "metadata": {},
     "output_type": "execute_result"
    }
   ],
   "source": [
    "df.head()"
   ]
  },
  {
   "cell_type": "markdown",
   "metadata": {},
   "source": [
    "Let's take a look at some graphs, and how the categories of flowers correspond to the covariates"
   ]
  },
  {
   "cell_type": "code",
   "execution_count": 6,
   "metadata": {},
   "outputs": [
    {
     "name": "stdout",
     "output_type": "stream",
     "text": [
      "0\n"
     ]
    }
   ],
   "source": [
    "# First, take out the covariates.\n",
    "seto = df.loc[(df['SpeciesCat']==0)]\n",
    "vers = df.loc[(df['SpeciesCat']==1)]\n",
    "virg = df.loc[(df['SpeciesCat']==2)]\n",
    "\n",
    "# Check numbers are right\n",
    "print(len(seto) + len(vers) + len(virg)  - len(df))"
   ]
  },
  {
   "cell_type": "code",
   "execution_count": 7,
   "metadata": {},
   "outputs": [],
   "source": [
    "# Create some arrays to plot the data with.\n",
    "# Seto\n",
    "seto_sepal_len = seto['SepalLengthCm'].to_numpy()\n",
    "seto_sepal_width = seto['SepalWidthCm'].to_numpy()\n",
    "seto_petal_len = seto['PetalLengthCm'].to_numpy()\n",
    "seto_petal_width = seto['PetalWidthCm'].to_numpy()\n",
    "\n",
    "# Vers\n",
    "vers_sepal_len = vers['SepalLengthCm'].to_numpy()\n",
    "vers_sepal_width = vers['SepalWidthCm'].to_numpy()\n",
    "vers_petal_len = vers['PetalLengthCm'].to_numpy()\n",
    "vers_petal_width = vers['PetalWidthCm'].to_numpy()\n",
    "\n",
    "# Virg\n",
    "virg_sepal_len = virg['SepalLengthCm'].to_numpy()\n",
    "virg_sepal_width = virg['SepalWidthCm'].to_numpy()\n",
    "virg_petal_len = virg['PetalLengthCm'].to_numpy()\n",
    "virg_petal_width = virg['PetalWidthCm'].to_numpy()"
   ]
  },
  {
   "cell_type": "markdown",
   "metadata": {},
   "source": [
    "Now, let's plot a scatter plot."
   ]
  },
  {
   "cell_type": "code",
   "execution_count": 8,
   "metadata": {},
   "outputs": [
    {
     "data": {
      "image/png": "[encoded data removed]",
      "text/plain": [
       "<Figure size 576x576 with 2 Axes>"
      ]
     },
     "metadata": {},
     "output_type": "display_data"
    }
   ],
   "source": [
    "plt.style.use('fivethirtyeight')\n",
    "fig, (ax_sepal, ax_petal) = plt.subplots(nrows = 2, figsize = (8,8))\n",
    "plt.subplots_adjust(hspace = .5)\n",
    "\n",
    "ax_sepal.scatter(seto_sepal_len, seto_sepal_width, color = '#ff0000', label = 'seto')\n",
    "ax_sepal.scatter(vers_sepal_len, vers_sepal_width, color = '#ffff00', label = 'vers')\n",
    "ax_sepal.scatter(virg_sepal_len, virg_sepal_width, color = '#ff9900', label = 'virg')\n",
    "ax_sepal.set_title('Sepal')\n",
    "ax_sepal.set_xlabel('Sepal Length (CM)')\n",
    "ax_sepal.set_ylabel('Sepal Width (CM)')\n",
    "\n",
    "ax_petal.scatter(seto_petal_len, seto_petal_width, color = 'blue', label = 'seto')\n",
    "ax_petal.scatter(vers_petal_len, vers_petal_width, color = 'red', label = 'vers')\n",
    "ax_petal.scatter(virg_petal_len, virg_petal_width, color = 'purple', label = 'virg')\n",
    "ax_petal.set_title('Petal')\n",
    "ax_petal.set_xlabel('Petal Length (CM)')\n",
    "ax_petal.set_ylabel('Petal Width (CM)')\n",
    "\n",
    "ax_sepal.legend()\n",
    "ax_petal.legend()\n",
    "plt.show()"
   ]
  },
  {
   "cell_type": "markdown",
   "metadata": {},
   "source": [
    "<h1> More analysis</h1>"
   ]
  },
  {
   "cell_type": "markdown",
   "metadata": {},
   "source": [
    "As we can see, it looks like the data in the petal graph is more linearly correlated. Lets take a look."
   ]
  },
  {
   "cell_type": "code",
   "execution_count": 9,
   "metadata": {
    "scrolled": false
   },
   "outputs": [
    {
     "name": "stdout",
     "output_type": "stream",
     "text": [
      "Sepal Correlation: -0.10936924995064935\n",
      "Petal Correlation: 0.962757097050966\n"
     ]
    }
   ],
   "source": [
    "sepal_corr_coef = np.corrcoef(df['SepalLengthCm'], df['SepalWidthCm'])\n",
    "petal_corr_coef = np.corrcoef(df['PetalLengthCm'], df['PetalWidthCm'])\n",
    "print('Sepal Correlation: {}\\nPetal Correlation: {}'.format(sepal_corr_coef[0,1], petal_corr_coef[0,1]))"
   ]
  },
  {
   "cell_type": "markdown",
   "metadata": {},
   "source": [
    "In fact, the correlation using petal calculations is much higher, and indicates a very positive linear correlation"
   ]
  },
  {
   "cell_type": "markdown",
   "metadata": {},
   "source": [
    "<h1>K-Means</h1>"
   ]
  },
  {
   "cell_type": "markdown",
   "metadata": {},
   "source": [
    "Now, lets perform k-means clustering on the data, one for sepal and one for petal."
   ]
  },
  {
   "cell_type": "code",
   "execution_count": 10,
   "metadata": {
    "scrolled": true
   },
   "outputs": [],
   "source": [
    "# Want to do k means on SepalLength/SepalWidth and PetalLength/PetalWidth\n",
    "# First, perform mean normalization + feature scaling to normalize datanum_examples = len(df)\n",
    "# prep variables for normalize\n",
    "num_examples = len(df)\n",
    "sums = np.sum(df)\n",
    "maxs = df.max()\n",
    "mins = df.min()"
   ]
  },
  {
   "cell_type": "code",
   "execution_count": 11,
   "metadata": {
    "scrolled": true
   },
   "outputs": [],
   "source": [
    "# # Normalize\n",
    "for i in range(1,5):\n",
    "    df.iloc[:,i] = (df.iloc[:,i] - (sums[i]/num_examples)) / (maxs[i] - mins[i])\n",
    "   \n",
    "    \n",
    "# df.head()"
   ]
  },
  {
   "cell_type": "markdown",
   "metadata": {},
   "source": [
    "Now that our data is normalized for potentially faster and more accurate calculations, we can proceed with model creation and training.\n",
    "<br>\n",
    "For the sake of reproduceability, I have set my random state to 0"
   ]
  },
  {
   "cell_type": "code",
   "execution_count": 12,
   "metadata": {
    "scrolled": false
   },
   "outputs": [],
   "source": [
    "# Now we can start KM\n",
    "# Note that since we want to predict 3 categories, 3 Clusters is what we need\n",
    "sepal_model = KMeans(n_clusters = 3, random_state = 0)\n",
    "petal_model = KMeans(n_clusters = 3, random_state = 0)"
   ]
  },
  {
   "cell_type": "markdown",
   "metadata": {},
   "source": [
    "Model training"
   ]
  },
  {
   "cell_type": "code",
   "execution_count": 13,
   "metadata": {
    "scrolled": true
   },
   "outputs": [],
   "source": [
    "# Predict the clusters\n",
    "sepal_data = ['SepalLengthCm', 'SepalWidthCm']\n",
    "petal_data = ['PetalLengthCm', 'PetalWidthCm'] \n",
    "sepal_pred = sepal_model.fit_predict(df[sepal_data])\n",
    "petal_pred = petal_model.fit_predict(df[petal_data])"
   ]
  },
  {
   "cell_type": "markdown",
   "metadata": {},
   "source": [
    "Addind the model results to the df, and touch-ups"
   ]
  },
  {
   "cell_type": "code",
   "execution_count": 14,
   "metadata": {
    "scrolled": true
   },
   "outputs": [],
   "source": [
    "# Put the predictions into the df\n",
    "df['SepalCluster'] = sepal_pred\n",
    "df['PetalCluster'] = petal_pred\n",
    "\n",
    "# Since I fixed my random_state, I know that the '1' and '2' is swapped\n",
    "sepal_conditions = [\n",
    "    df['SepalCluster'] == 0,\n",
    "    df['SepalCluster'] == 2,\n",
    "    df['SepalCluster'] == 1,\n",
    "    \n",
    "]\n",
    "petal_conditions = [\n",
    "    df['PetalCluster'] == 0,\n",
    "    df['PetalCluster'] == 2,\n",
    "    df['PetalCluster'] == 1,\n",
    "    \n",
    "]\n",
    "choices = [0,1,2]\n",
    "df['SepalCluster']= np.select(sepal_conditions, choices)\n",
    "df['PetalCluster']= np.select(petal_conditions, choices)"
   ]
  },
  {
   "cell_type": "markdown",
   "metadata": {},
   "source": [
    "<h1> Post modelling results and analysis</h1>"
   ]
  },
  {
   "cell_type": "markdown",
   "metadata": {},
   "source": [
    "Let's take a look at the f1 score"
   ]
  },
  {
   "cell_type": "code",
   "execution_count": 15,
   "metadata": {
    "scrolled": true
   },
   "outputs": [],
   "source": [
    "# Get data prepped for f1 score by converting to array\n",
    "sepal_cluster = df.SepalCluster.to_numpy()\n",
    "petal_cluster = df.PetalCluster.to_numpy()\n",
    "true_cluster = df.SpeciesCat.to_numpy()"
   ]
  },
  {
   "cell_type": "code",
   "execution_count": 16,
   "metadata": {
    "scrolled": true
   },
   "outputs": [
    {
     "name": "stdout",
     "output_type": "stream",
     "text": [
      "Sepal clustering f1 score: 0.801\n",
      "Petal clustering f1 score:0.96\n"
     ]
    }
   ],
   "source": [
    "# Just f1 Score\n",
    "sepal_f1 = f1_score(true_cluster, sepal_cluster, average = 'macro')\n",
    "petal_f1 = f1_score(true_cluster, petal_cluster, average = 'macro')\n",
    "print('Sepal clustering f1 score: {}\\nPetal clustering f1 score:{}'.format(round(sepal_f1,3), round(petal_f1,3)))"
   ]
  },
  {
   "cell_type": "markdown",
   "metadata": {},
   "source": [
    "As we guessed, the score for the petal model is significantly higher than that of the sepal one. Lets also take a look at the clusters created by the model"
   ]
  },
  {
   "cell_type": "code",
   "execution_count": 17,
   "metadata": {},
   "outputs": [
    {
     "data": {
      "image/png": "[encoded data removed]",
      "text/plain": [
       "<Figure size 576x576 with 2 Axes>"
      ]
     },
     "metadata": {
      "needs_background": "light"
     },
     "output_type": "display_data"
    }
   ],
   "source": [
    "%matplotlib inline\n",
    "fig, (ax_sepal_c, ax_petal_c) = plt.subplots(nrows = 2, figsize = (8,8))\n",
    "plt.subplots_adjust(hspace = .5)\n",
    "\n",
    "# Plot Sepal Clusterings\n",
    "sdf0 = df[df.SepalCluster==0]\n",
    "sdf1 = df[df.SepalCluster==1]\n",
    "sdf2 = df[df.SepalCluster==2]\n",
    "pdf0 = df[df.PetalCluster==0]\n",
    "pdf1 = df[df.PetalCluster==1]\n",
    "pdf2 = df[df.PetalCluster==2]\n",
    "\n",
    "# Plot Sepal Clusterings\n",
    "ax_sepal_c.set_title('Sepal Clusters')\n",
    "ax_sepal_c.set_xlabel('Sepal Length (Cm)', fontsize = 'large')\n",
    "ax_sepal_c.set_ylabel('Sepal Width (Cm)')\n",
    "\n",
    "ax_sepal_c.scatter(sdf0.SepalLengthCm, sdf0.SepalWidthCm, color = 'gray', label = 0)\n",
    "ax_sepal_c.scatter(sdf1.SepalLengthCm, sdf1.SepalWidthCm, color = 'orange', label = 1)\n",
    "ax_sepal_c.scatter(sdf2.SepalLengthCm, sdf2.SepalWidthCm, color = 'blue', label = 2)\n",
    "ax_sepal_c.scatter(sepal_model.cluster_centers_[:,0],sepal_model.cluster_centers_[:,1], color = 'red', marker = 'X')\n",
    "\n",
    "# Plot Petal Clusterings\n",
    "ax_petal_c.set_title('Petal Clusters')\n",
    "ax_petal_c.set_xlabel('Petal Length (Cm)')\n",
    "ax_petal_c.set_ylabel('Petal Width (Cm)')\n",
    "\n",
    "ax_petal_c.scatter(pdf0.PetalLengthCm, pdf0.PetalWidthCm, color = 'gray', label = 0)\n",
    "ax_petal_c.scatter(pdf1.PetalLengthCm, pdf1.PetalWidthCm, color = 'orange', label = 1)\n",
    "ax_petal_c.scatter(pdf2.PetalLengthCm, pdf2.PetalWidthCm, color = 'blue', label = 2)\n",
    "ax_petal_c.scatter(petal_model.cluster_centers_[:,0],petal_model.cluster_centers_[:,1], color = 'red', marker = 'X')\n",
    "\n",
    "ax_sepal_c.legend()\n",
    "ax_petal_c.legend()\n",
    "plt.show()"
   ]
  },
  {
   "cell_type": "markdown",
   "metadata": {},
   "source": [
    "As compared to the above graphs, the cluster 'colors' are much similar in the Petal covariates compared to the Sepal covariates"
   ]
  },
  {
   "cell_type": "markdown",
   "metadata": {},
   "source": [
    "Below is the full classification report, once again providing evidence that petals likely result in better predicted clusters."
   ]
  },
  {
   "cell_type": "code",
   "execution_count": 18,
   "metadata": {},
   "outputs": [
    {
     "name": "stdout",
     "output_type": "stream",
     "text": [
      "Sepal Cluster Classification Report\n",
      "\n",
      "                 precision    recall  f1-score   support\n",
      "\n",
      "    Iris-setosa       1.00      0.98      0.99        50\n",
      "Iris-versicolor       0.69      0.74      0.71        50\n",
      " Iris-virginica       0.72      0.68      0.70        50\n",
      "\n",
      "       accuracy                           0.80       150\n",
      "      macro avg       0.80      0.80      0.80       150\n",
      "   weighted avg       0.80      0.80      0.80       150\n",
      "\n",
      "\n",
      "\n",
      "----------------------------------------------------------\n",
      "\n",
      "\n",
      "Petal Cluster Classification Report\n",
      "\n",
      "                 precision    recall  f1-score   support\n",
      "\n",
      "    Iris-setosa       1.00      1.00      1.00        50\n",
      "Iris-versicolor       0.92      0.96      0.94        50\n",
      " Iris-virginica       0.96      0.92      0.94        50\n",
      "\n",
      "       accuracy                           0.96       150\n",
      "      macro avg       0.96      0.96      0.96       150\n",
      "   weighted avg       0.96      0.96      0.96       150\n",
      "\n"
     ]
    }
   ],
   "source": [
    "# Full Classification Report\n",
    "classes = ['Iris-setosa', 'Iris-versicolor', 'Iris-virginica']\n",
    "print('Sepal Cluster Classification Report\\n\\n' + \n",
    "      classification_report(true_cluster, sepal_cluster, target_names=classes) + '\\n\\n')\n",
    "print('----------------------------------------------------------')\n",
    "print('\\n\\nPetal Cluster Classification Report\\n\\n' + \n",
    "      classification_report(true_cluster, petal_cluster, target_names=classes))"
   ]
  }
 ],
 "metadata": {
  "kernelspec": {
   "display_name": "Python 3",
   "language": "python",
   "name": "python3"
  },
  "language_info": {
   "codemirror_mode": {
    "name": "ipython",
    "version": 3
   },
   "file_extension": ".py",
   "mimetype": "text/x-python",
   "name": "python",
   "nbconvert_exporter": "python",
   "pygments_lexer": "ipython3",
   "version": "3.7.4"
  }
 },
 "nbformat": 4,
 "nbformat_minor": 2
}
