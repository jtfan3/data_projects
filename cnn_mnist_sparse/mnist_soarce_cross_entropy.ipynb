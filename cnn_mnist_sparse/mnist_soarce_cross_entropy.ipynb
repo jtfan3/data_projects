{
 "cells": [
  {
   "cell_type": "code",
   "execution_count": 1,
   "metadata": {
    "scrolled": true
   },
   "outputs": [
    {
     "name": "stderr",
     "output_type": "stream",
     "text": [
      "Using TensorFlow backend.\n"
     ]
    }
   ],
   "source": [
    "# importing MNIST Dataset\n",
    "from keras.datasets import mnist\n",
    "# import plot, random for visual improvement\n",
    "import matplotlib.pyplot as plt\n",
    "import random\n",
    "\n",
    "# import keras stuff\n",
    "import numpy as np\n",
    "import tensorflow as tf\n",
    "from keras.utils import np_utils\n",
    "\n",
    "from keras.models import Sequential\n",
    "from keras.layers import Dense, Conv2D, MaxPooling2D, Dropout, Flatten"
   ]
  },
  {
   "cell_type": "code",
   "execution_count": 2,
   "metadata": {},
   "outputs": [
    {
     "name": "stdout",
     "output_type": "stream",
     "text": [
      "x_train.shape: (60000, 28, 28), y_train.shape: (60000,) \n",
      " x_test.shape: (10000, 28, 28), y_test.shape: (10000,)\n"
     ]
    }
   ],
   "source": [
    "# Load MNIST Data\n",
    "(x_train, y_train), (x_test, y_test) = mnist.load_data()\n",
    "print('x_train.shape: {}, y_train.shape: {} \\n x_test.shape: {}, y_test.shape: {}'\n",
    "      .format(x_train.shape, y_train.shape, x_test.shape, y_test.shape))"
   ]
  },
  {
   "cell_type": "code",
   "execution_count": 3,
   "metadata": {},
   "outputs": [
    {
     "name": "stdout",
     "output_type": "stream",
     "text": [
      "Index: 57504, Number: 7\n",
      "Index: 45687, Number: 3\n",
      "Index: 35021, Number: 8\n",
      "Index: 42283, Number: 7\n"
     ]
    },
    {
     "data": {
      "image/png": "[encoded data removed]",
      "text/plain": [
       "<Figure size 432x288 with 4 Axes>"
      ]
     },
     "metadata": {
      "needs_background": "light"
     },
     "output_type": "display_data"
    }
   ],
   "source": [
    "for i in range(0,4):\n",
    "    k = 411+i\n",
    "    plt.subplot(k)\n",
    "    index = random.randrange(0, x_train.shape[0])\n",
    "    plt.imshow(x_train[index], cmap=plt.get_cmap('gray'))\n",
    "    print('Index: {}, Number: {}'.format(index, y_train[index]))"
   ]
  },
  {
   "cell_type": "code",
   "execution_count": 4,
   "metadata": {},
   "outputs": [
    {
     "data": {
      "text/plain": [
       "(60000, 28, 28, 1)"
      ]
     },
     "execution_count": 4,
     "metadata": {},
     "output_type": "execute_result"
    }
   ],
   "source": [
    "# Reshape \n",
    "x_train = x_train.reshape(x_train.shape[0], 28, 28, 1).astype('float32')\n",
    "x_test = x_test.reshape(x_test.shape[0], 28, 28, 1).astype('float32')\n",
    "x_train = x_train/255\n",
    "x_test = x_test/255\n",
    "x_train.shape"
   ]
  },
  {
   "cell_type": "code",
   "execution_count": 5,
   "metadata": {},
   "outputs": [
    {
     "name": "stdout",
     "output_type": "stream",
     "text": [
      "Model: \"sequential_1\"\n",
      "_________________________________________________________________\n",
      "Layer (type)                 Output Shape              Param #   \n",
      "=================================================================\n",
      "conv2d_1 (Conv2D)            (None, 26, 26, 50)        500       \n",
      "_________________________________________________________________\n",
      "max_pooling2d_1 (MaxPooling2 (None, 13, 13, 50)        0         \n",
      "_________________________________________________________________\n",
      "conv2d_2 (Conv2D)            (None, 12, 12, 50)        10050     \n",
      "_________________________________________________________________\n",
      "max_pooling2d_2 (MaxPooling2 (None, 6, 6, 50)          0         \n",
      "_________________________________________________________________\n",
      "dense_1 (Dense)              (None, 6, 6, 128)         6528      \n",
      "_________________________________________________________________\n",
      "flatten_1 (Flatten)          (None, 4608)              0         \n",
      "_________________________________________________________________\n",
      "dense_2 (Dense)              (None, 128)               589952    \n",
      "_________________________________________________________________\n",
      "dropout_1 (Dropout)          (None, 128)               0         \n",
      "_________________________________________________________________\n",
      "dense_3 (Dense)              (None, 10)                1290      \n",
      "=================================================================\n",
      "Total params: 608,320\n",
      "Trainable params: 608,320\n",
      "Non-trainable params: 0\n",
      "_________________________________________________________________\n",
      "Model: \"sequential_2\"\n",
      "_________________________________________________________________\n",
      "Layer (type)                 Output Shape              Param #   \n",
      "=================================================================\n",
      "conv2d_3 (Conv2D)            (None, 26, 26, 50)        500       \n",
      "_________________________________________________________________\n",
      "max_pooling2d_3 (MaxPooling2 (None, 13, 13, 50)        0         \n",
      "_________________________________________________________________\n",
      "conv2d_4 (Conv2D)            (None, 12, 12, 50)        10050     \n",
      "_________________________________________________________________\n",
      "max_pooling2d_4 (MaxPooling2 (None, 6, 6, 50)          0         \n",
      "_________________________________________________________________\n",
      "dense_4 (Dense)              (None, 6, 6, 128)         6528      \n",
      "_________________________________________________________________\n",
      "flatten_2 (Flatten)          (None, 4608)              0         \n",
      "_________________________________________________________________\n",
      "dense_5 (Dense)              (None, 128)               589952    \n",
      "_________________________________________________________________\n",
      "dropout_2 (Dropout)          (None, 128)               0         \n",
      "_________________________________________________________________\n",
      "dense_6 (Dense)              (None, 10)                1290      \n",
      "=================================================================\n",
      "Total params: 608,320\n",
      "Trainable params: 608,320\n",
      "Non-trainable params: 0\n",
      "_________________________________________________________________\n"
     ]
    }
   ],
   "source": [
    "# Add Layers\n",
    "# Creating a Sequential Model and adding the layers\n",
    "model = Sequential()\n",
    "model.add(Conv2D(50, kernel_size=(3,3), input_shape=(28,28,1)))\n",
    "model.add(MaxPooling2D(pool_size=(2, 2)))\n",
    "model.add(Conv2D(50, kernel_size=(2,2)))\n",
    "model.add(MaxPooling2D(pool_size=(2, 2)))\n",
    "model.add(Dense(128, activation=tf.nn.relu))\n",
    "model.add(Flatten()) # Flattening the 2D arrays for fully connected layers\n",
    "model.add(Dense(128, activation=tf.nn.relu))\n",
    "model.add(Dropout(0.2))\n",
    "model.add(Dense(10,activation=tf.nn.softmax))\n",
    "\n",
    "model2 = Sequential()\n",
    "model2.add(Conv2D(50, kernel_size=(3,3), input_shape=(28,28,1)))\n",
    "model2.add(MaxPooling2D(pool_size=(2, 2)))\n",
    "model2.add(Conv2D(50, kernel_size=(2,2)))\n",
    "model2.add(MaxPooling2D(pool_size=(2, 2)))\n",
    "model2.add(Dense(128, activation=tf.nn.relu))\n",
    "model2.add(Flatten()) # Flattening the 2D arrays for fully connected layers\n",
    "model2.add(Dense(128, activation=tf.nn.relu))\n",
    "model2.add(Dropout(0.2))\n",
    "model2.add(Dense(10,activation=tf.nn.softmax))\n",
    "\n",
    "\n",
    "\n",
    "# Compile\n",
    "model.compile(optimizer='adam', loss='sparse_categorical_crossentropy', metrics=['accuracy'])\n",
    "model2.compile(optimizer='RMSprop', loss='sparse_categorical_crossentropy', metrics=['accuracy'])\n",
    "\n",
    "\n",
    "# Check Layers\n",
    "model.summary()\n",
    "model2.summary()"
   ]
  },
  {
   "cell_type": "code",
   "execution_count": 6,
   "metadata": {},
   "outputs": [
    {
     "name": "stdout",
     "output_type": "stream",
     "text": [
      "Epoch 1/5\n",
      "60000/60000 [==============================] - 140s 2ms/step - loss: 0.1442 - accuracy: 0.9556\n",
      "Epoch 2/5\n",
      "60000/60000 [==============================] - 132s 2ms/step - loss: 0.0533 - accuracy: 0.9835\n",
      "Epoch 3/5\n",
      "60000/60000 [==============================] - 131s 2ms/step - loss: 0.0410 - accuracy: 0.9876\n",
      "Epoch 4/5\n",
      "60000/60000 [==============================] - 134s 2ms/step - loss: 0.0327 - accuracy: 0.9896\n",
      "Epoch 5/5\n",
      "60000/60000 [==============================] - 137s 2ms/step - loss: 0.0252 - accuracy: 0.9919\n",
      "Epoch 1/5\n",
      "60000/60000 [==============================] - 134s 2ms/step - loss: 0.1394 - accuracy: 0.9570\n",
      "Epoch 2/5\n",
      "60000/60000 [==============================] - 132s 2ms/step - loss: 0.0556 - accuracy: 0.9837\n",
      "Epoch 3/5\n",
      "60000/60000 [==============================] - 145s 2ms/step - loss: 0.0449 - accuracy: 0.9869\n",
      "Epoch 4/5\n",
      "60000/60000 [==============================] - 118s 2ms/step - loss: 0.0427 - accuracy: 0.9880\n",
      "Epoch 5/5\n",
      "60000/60000 [==============================] - 112s 2ms/step - loss: 0.0435 - accuracy: 0.9881\n"
     ]
    },
    {
     "data": {
      "text/plain": [
       "<keras.callbacks.callbacks.History at 0x7fd2dc8eff10>"
      ]
     },
     "execution_count": 6,
     "metadata": {},
     "output_type": "execute_result"
    }
   ],
   "source": [
    "# Fit\n",
    "model.fit(x = x_train, y = y_train, shuffle = True, epochs = 5)\n",
    "model2.fit(x = x_train, y = y_train, shuffle=True, epochs=5)"
   ]
  },
  {
   "cell_type": "code",
   "execution_count": 7,
   "metadata": {},
   "outputs": [
    {
     "name": "stdout",
     "output_type": "stream",
     "text": [
      "10000/10000 [==============================] - 6s 646us/step\n"
     ]
    },
    {
     "data": {
      "text/plain": [
       "[0.024481673762445918, 0.9926000237464905]"
      ]
     },
     "execution_count": 7,
     "metadata": {},
     "output_type": "execute_result"
    }
   ],
   "source": [
    "# Evaluate\n",
    "model.evaluate(x_test, y_test)"
   ]
  },
  {
   "cell_type": "code",
   "execution_count": 8,
   "metadata": {},
   "outputs": [
    {
     "name": "stdout",
     "output_type": "stream",
     "text": [
      "10000/10000 [==============================] - 6s 626us/step\n"
     ]
    },
    {
     "data": {
      "text/plain": [
       "[0.03538947198388378, 0.9889000058174133]"
      ]
     },
     "execution_count": 8,
     "metadata": {},
     "output_type": "execute_result"
    }
   ],
   "source": [
    "model2.evaluate(x_test, y_test)"
   ]
  }
 ],
 "metadata": {
  "kernelspec": {
   "display_name": "Python 3",
   "language": "python",
   "name": "python3"
  },
  "language_info": {
   "codemirror_mode": {
    "name": "ipython",
    "version": 3
   },
   "file_extension": ".py",
   "mimetype": "text/x-python",
   "name": "python",
   "nbconvert_exporter": "python",
   "pygments_lexer": "ipython3",
   "version": "3.7.4"
  }
 },
 "nbformat": 4,
 "nbformat_minor": 2
}
